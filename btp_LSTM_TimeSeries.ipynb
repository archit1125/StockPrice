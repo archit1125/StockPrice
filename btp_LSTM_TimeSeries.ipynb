{
  "nbformat": 4,
  "nbformat_minor": 0,
  "metadata": {
    "kernelspec": {
      "display_name": "Python 3",
      "language": "python",
      "name": "python3"
    },
    "language_info": {
      "codemirror_mode": {
        "name": "ipython",
        "version": 3
      },
      "file_extension": ".py",
      "mimetype": "text/x-python",
      "name": "python",
      "nbconvert_exporter": "python",
      "pygments_lexer": "ipython3",
      "version": "3.6.1"
    },
    "colab": {
      "name": "btp LSTM_TimeSeries.ipynb",
      "provenance": [],
      "toc_visible": true,
      "include_colab_link": true
    }
  },
  "cells": [
    {
      "cell_type": "markdown",
      "metadata": {
        "id": "view-in-github",
        "colab_type": "text"
      },
      "source": [
        "<a href=\"https://colab.research.google.com/github/archit1125/StockPrice/blob/main/btp_LSTM_TimeSeries.ipynb\" target=\"_parent\"><img src=\"https://colab.research.google.com/assets/colab-badge.svg\" alt=\"Open In Colab\"/></a>"
      ]
    },
    {
      "cell_type": "code",
      "metadata": {
        "colab": {
          "base_uri": "https://localhost:8080/",
          "height": 290
        },
        "id": "oBEc-Skp2voh",
        "outputId": "01f4e3e1-77a7-44dd-c10d-9c473a6de32c"
      },
      "source": [
        "!pip install pyspark\n",
        "import pandas as pd\n",
        "import pyspark as spark\n",
        "import matplotlib.pyplot as plt\n",
        "import numpy as np\n",
        "from sklearn.metrics import mean_squared_error\n",
        "sc = spark.SparkContext()\n",
        "sql = spark.SQLContext(sc)\n",
        "from pyspark.sql.types import *\n",
        "from sklearn.preprocessing import MinMaxScaler\n",
        "from keras.models import Sequential\n",
        "from keras.layers import Dense\n",
        "from keras.layers import LSTM\n",
        "\n"
      ],
      "execution_count": 119,
      "outputs": [
        {
          "output_type": "stream",
          "text": [
            "Requirement already satisfied: pyspark in /usr/local/lib/python3.7/dist-packages (3.0.2)\n",
            "Requirement already satisfied: py4j==0.10.9 in /usr/local/lib/python3.7/dist-packages (from pyspark) (0.10.9)\n"
          ],
          "name": "stdout"
        },
        {
          "output_type": "error",
          "ename": "ValueError",
          "evalue": "ignored",
          "traceback": [
            "\u001b[0;31m---------------------------------------------------------------------------\u001b[0m",
            "\u001b[0;31mValueError\u001b[0m                                Traceback (most recent call last)",
            "\u001b[0;32m<ipython-input-119-3fe5d6a9d0e1>\u001b[0m in \u001b[0;36m<module>\u001b[0;34m()\u001b[0m\n\u001b[1;32m      5\u001b[0m \u001b[0;32mimport\u001b[0m \u001b[0mnumpy\u001b[0m \u001b[0;32mas\u001b[0m \u001b[0mnp\u001b[0m\u001b[0;34m\u001b[0m\u001b[0;34m\u001b[0m\u001b[0m\n\u001b[1;32m      6\u001b[0m \u001b[0;32mfrom\u001b[0m \u001b[0msklearn\u001b[0m\u001b[0;34m.\u001b[0m\u001b[0mmetrics\u001b[0m \u001b[0;32mimport\u001b[0m \u001b[0mmean_squared_error\u001b[0m\u001b[0;34m\u001b[0m\u001b[0;34m\u001b[0m\u001b[0m\n\u001b[0;32m----> 7\u001b[0;31m \u001b[0msc\u001b[0m \u001b[0;34m=\u001b[0m \u001b[0mspark\u001b[0m\u001b[0;34m.\u001b[0m\u001b[0mSparkContext\u001b[0m\u001b[0;34m(\u001b[0m\u001b[0;34m)\u001b[0m\u001b[0;34m\u001b[0m\u001b[0;34m\u001b[0m\u001b[0m\n\u001b[0m\u001b[1;32m      8\u001b[0m \u001b[0msql\u001b[0m \u001b[0;34m=\u001b[0m \u001b[0mspark\u001b[0m\u001b[0;34m.\u001b[0m\u001b[0mSQLContext\u001b[0m\u001b[0;34m(\u001b[0m\u001b[0msc\u001b[0m\u001b[0;34m)\u001b[0m\u001b[0;34m\u001b[0m\u001b[0;34m\u001b[0m\u001b[0m\n\u001b[1;32m      9\u001b[0m \u001b[0;32mfrom\u001b[0m \u001b[0mpyspark\u001b[0m\u001b[0;34m.\u001b[0m\u001b[0msql\u001b[0m\u001b[0;34m.\u001b[0m\u001b[0mtypes\u001b[0m \u001b[0;32mimport\u001b[0m \u001b[0;34m*\u001b[0m\u001b[0;34m\u001b[0m\u001b[0;34m\u001b[0m\u001b[0m\n",
            "\u001b[0;32m/usr/local/lib/python3.7/dist-packages/pyspark/context.py\u001b[0m in \u001b[0;36m__init__\u001b[0;34m(self, master, appName, sparkHome, pyFiles, environment, batchSize, serializer, conf, gateway, jsc, profiler_cls)\u001b[0m\n\u001b[1;32m    131\u001b[0m                 \" is not allowed as it is a security risk.\")\n\u001b[1;32m    132\u001b[0m \u001b[0;34m\u001b[0m\u001b[0m\n\u001b[0;32m--> 133\u001b[0;31m         \u001b[0mSparkContext\u001b[0m\u001b[0;34m.\u001b[0m\u001b[0m_ensure_initialized\u001b[0m\u001b[0;34m(\u001b[0m\u001b[0mself\u001b[0m\u001b[0;34m,\u001b[0m \u001b[0mgateway\u001b[0m\u001b[0;34m=\u001b[0m\u001b[0mgateway\u001b[0m\u001b[0;34m,\u001b[0m \u001b[0mconf\u001b[0m\u001b[0;34m=\u001b[0m\u001b[0mconf\u001b[0m\u001b[0;34m)\u001b[0m\u001b[0;34m\u001b[0m\u001b[0;34m\u001b[0m\u001b[0m\n\u001b[0m\u001b[1;32m    134\u001b[0m         \u001b[0;32mtry\u001b[0m\u001b[0;34m:\u001b[0m\u001b[0;34m\u001b[0m\u001b[0;34m\u001b[0m\u001b[0m\n\u001b[1;32m    135\u001b[0m             self._do_init(master, appName, sparkHome, pyFiles, environment, batchSize, serializer,\n",
            "\u001b[0;32m/usr/local/lib/python3.7/dist-packages/pyspark/context.py\u001b[0m in \u001b[0;36m_ensure_initialized\u001b[0;34m(cls, instance, gateway, conf)\u001b[0m\n\u001b[1;32m    341\u001b[0m                         \u001b[0;34m\" created by %s at %s:%s \"\u001b[0m\u001b[0;34m\u001b[0m\u001b[0;34m\u001b[0m\u001b[0m\n\u001b[1;32m    342\u001b[0m                         % (currentAppName, currentMaster,\n\u001b[0;32m--> 343\u001b[0;31m                             callsite.function, callsite.file, callsite.linenum))\n\u001b[0m\u001b[1;32m    344\u001b[0m                 \u001b[0;32melse\u001b[0m\u001b[0;34m:\u001b[0m\u001b[0;34m\u001b[0m\u001b[0;34m\u001b[0m\u001b[0m\n\u001b[1;32m    345\u001b[0m                     \u001b[0mSparkContext\u001b[0m\u001b[0;34m.\u001b[0m\u001b[0m_active_spark_context\u001b[0m \u001b[0;34m=\u001b[0m \u001b[0minstance\u001b[0m\u001b[0;34m\u001b[0m\u001b[0;34m\u001b[0m\u001b[0m\n",
            "\u001b[0;31mValueError\u001b[0m: Cannot run multiple SparkContexts at once; existing SparkContext(app=pyspark-shell, master=local[*]) created by __init__ at <ipython-input-2-623403e3b996>:8 "
          ]
        }
      ]
    },
    {
      "cell_type": "markdown",
      "metadata": {
        "id": "RhU6h_482voy"
      },
      "source": [
        "## Single Feature Sentiment Analysis"
      ]
    },
    {
      "cell_type": "code",
      "metadata": {
        "colab": {
          "base_uri": "https://localhost:8080/",
          "height": 204
        },
        "id": "nHSR2Xhp3CsL",
        "outputId": "06f4a304-8c81-461f-95c1-0c5ebfc4c41f"
      },
      "source": [
        "# data = [['2017-10-31T05:00:00.000-04:00', 0.092263,6158.76], ['2017-10-31T06:00:00.000-04:00', 0.103770,6105.90],['2017-10-31T07:00:00.000-04:00',0.111691,6094.36],['2017-10-31T08:00:00.000-04:00',0.082134,6125.13]] \r\n",
        "# for i in range(207):\r\n",
        "#   data.append(data[0])\r\n",
        "# # Create the pandas DataFrame \r\n",
        "# df = pd.DataFrame(data, columns =  ['DateTime','Sentiment_score','Price'])\r\n",
        "# df.head()"
      ],
      "execution_count": null,
      "outputs": [
        {
          "output_type": "execute_result",
          "data": {
            "text/html": [
              "<div>\n",
              "<style scoped>\n",
              "    .dataframe tbody tr th:only-of-type {\n",
              "        vertical-align: middle;\n",
              "    }\n",
              "\n",
              "    .dataframe tbody tr th {\n",
              "        vertical-align: top;\n",
              "    }\n",
              "\n",
              "    .dataframe thead th {\n",
              "        text-align: right;\n",
              "    }\n",
              "</style>\n",
              "<table border=\"1\" class=\"dataframe\">\n",
              "  <thead>\n",
              "    <tr style=\"text-align: right;\">\n",
              "      <th></th>\n",
              "      <th>DateTime</th>\n",
              "      <th>Sentiment_score</th>\n",
              "      <th>Price</th>\n",
              "    </tr>\n",
              "  </thead>\n",
              "  <tbody>\n",
              "    <tr>\n",
              "      <th>0</th>\n",
              "      <td>2017-10-31T05:00:00.000-04:00</td>\n",
              "      <td>0.092263</td>\n",
              "      <td>6158.76</td>\n",
              "    </tr>\n",
              "    <tr>\n",
              "      <th>1</th>\n",
              "      <td>2017-10-31T06:00:00.000-04:00</td>\n",
              "      <td>0.103770</td>\n",
              "      <td>6105.90</td>\n",
              "    </tr>\n",
              "    <tr>\n",
              "      <th>2</th>\n",
              "      <td>2017-10-31T07:00:00.000-04:00</td>\n",
              "      <td>0.111691</td>\n",
              "      <td>6094.36</td>\n",
              "    </tr>\n",
              "    <tr>\n",
              "      <th>3</th>\n",
              "      <td>2017-10-31T08:00:00.000-04:00</td>\n",
              "      <td>0.082134</td>\n",
              "      <td>6125.13</td>\n",
              "    </tr>\n",
              "    <tr>\n",
              "      <th>4</th>\n",
              "      <td>2017-10-31T05:00:00.000-04:00</td>\n",
              "      <td>0.092263</td>\n",
              "      <td>6158.76</td>\n",
              "    </tr>\n",
              "  </tbody>\n",
              "</table>\n",
              "</div>"
            ],
            "text/plain": [
              "                        DateTime  Sentiment_score    Price\n",
              "0  2017-10-31T05:00:00.000-04:00         0.092263  6158.76\n",
              "1  2017-10-31T06:00:00.000-04:00         0.103770  6105.90\n",
              "2  2017-10-31T07:00:00.000-04:00         0.111691  6094.36\n",
              "3  2017-10-31T08:00:00.000-04:00         0.082134  6125.13\n",
              "4  2017-10-31T05:00:00.000-04:00         0.092263  6158.76"
            ]
          },
          "metadata": {
            "tags": []
          },
          "execution_count": 43
        }
      ]
    },
    {
      "cell_type": "code",
      "metadata": {
        "colab": {
          "base_uri": "https://localhost:8080/",
          "height": 442
        },
        "id": "uP60nhGt2voz",
        "outputId": "3fbda73d-b313-4282-90c0-ca8007a3ff05"
      },
      "source": [
        "df = pd.read_csv('mycsv.csv',header=None)\n",
        "df=df.drop([0], axis=1)\n",
        "df=df.drop([0], axis=0)\n",
        "df.columns = ['DateTime','Sentiment_score','Price']\n",
        "FullData=sql.createDataFrame(df)\n",
        "FullData = FullData.withColumn(\"DateTime\", FullData[\"DateTime\"].cast(TimestampType()))\n",
        "FullData = FullData.withColumn(\"Sentiment_score\", FullData[\"Sentiment_score\"].cast(DoubleType()))\n",
        "FullData = FullData.withColumn(\"Price\", FullData[\"Price\"].cast(DoubleType()))\n",
        "\n",
        "print(df)\n",
        "df.head()"
      ],
      "execution_count": 124,
      "outputs": [
        {
          "output_type": "stream",
          "text": [
            "               DateTime        Sentiment_score               Price\n",
            "1   2021-02-17 15:00:00   0.023831035203204072   275.3800048828125\n",
            "2   2021-02-17 16:00:00   0.023831035203204072   275.3800048828125\n",
            "3   2021-02-17 17:00:00   0.023831035203204072   275.3800048828125\n",
            "4   2021-02-17 18:00:00  -0.018704572515988272    276.409912109375\n",
            "5   2021-02-17 19:00:00  -0.018704572515988272    276.409912109375\n",
            "..                  ...                    ...                 ...\n",
            "92  2021-02-24 01:00:00   0.056063199788331984  330.93499755859375\n",
            "93  2021-02-24 02:00:00    0.08972835863259301  330.93499755859375\n",
            "94  2021-02-24 03:00:00    0.08972835863259301  330.93499755859375\n",
            "95  2021-02-24 04:00:00    0.11491034411150834  330.93499755859375\n",
            "96  2021-02-24 05:00:00    0.11491034411150834  330.93499755859375\n",
            "\n",
            "[96 rows x 3 columns]\n"
          ],
          "name": "stdout"
        },
        {
          "output_type": "execute_result",
          "data": {
            "text/html": [
              "<div>\n",
              "<style scoped>\n",
              "    .dataframe tbody tr th:only-of-type {\n",
              "        vertical-align: middle;\n",
              "    }\n",
              "\n",
              "    .dataframe tbody tr th {\n",
              "        vertical-align: top;\n",
              "    }\n",
              "\n",
              "    .dataframe thead th {\n",
              "        text-align: right;\n",
              "    }\n",
              "</style>\n",
              "<table border=\"1\" class=\"dataframe\">\n",
              "  <thead>\n",
              "    <tr style=\"text-align: right;\">\n",
              "      <th></th>\n",
              "      <th>DateTime</th>\n",
              "      <th>Sentiment_score</th>\n",
              "      <th>Price</th>\n",
              "    </tr>\n",
              "  </thead>\n",
              "  <tbody>\n",
              "    <tr>\n",
              "      <th>1</th>\n",
              "      <td>2021-02-17 15:00:00</td>\n",
              "      <td>0.023831035203204072</td>\n",
              "      <td>275.3800048828125</td>\n",
              "    </tr>\n",
              "    <tr>\n",
              "      <th>2</th>\n",
              "      <td>2021-02-17 16:00:00</td>\n",
              "      <td>0.023831035203204072</td>\n",
              "      <td>275.3800048828125</td>\n",
              "    </tr>\n",
              "    <tr>\n",
              "      <th>3</th>\n",
              "      <td>2021-02-17 17:00:00</td>\n",
              "      <td>0.023831035203204072</td>\n",
              "      <td>275.3800048828125</td>\n",
              "    </tr>\n",
              "    <tr>\n",
              "      <th>4</th>\n",
              "      <td>2021-02-17 18:00:00</td>\n",
              "      <td>-0.018704572515988272</td>\n",
              "      <td>276.409912109375</td>\n",
              "    </tr>\n",
              "    <tr>\n",
              "      <th>5</th>\n",
              "      <td>2021-02-17 19:00:00</td>\n",
              "      <td>-0.018704572515988272</td>\n",
              "      <td>276.409912109375</td>\n",
              "    </tr>\n",
              "  </tbody>\n",
              "</table>\n",
              "</div>"
            ],
            "text/plain": [
              "              DateTime        Sentiment_score              Price\n",
              "1  2021-02-17 15:00:00   0.023831035203204072  275.3800048828125\n",
              "2  2021-02-17 16:00:00   0.023831035203204072  275.3800048828125\n",
              "3  2021-02-17 17:00:00   0.023831035203204072  275.3800048828125\n",
              "4  2021-02-17 18:00:00  -0.018704572515988272   276.409912109375\n",
              "5  2021-02-17 19:00:00  -0.018704572515988272   276.409912109375"
            ]
          },
          "metadata": {
            "tags": []
          },
          "execution_count": 124
        }
      ]
    },
    {
      "cell_type": "code",
      "metadata": {
        "collapsed": true,
        "id": "c87lhMnf2voz"
      },
      "source": [
        "#df = df.drop(df.columns[1],axis = 1) Uncomment this for pure time series analysis, without sentiment score"
      ],
      "execution_count": null,
      "outputs": []
    },
    {
      "cell_type": "markdown",
      "metadata": {
        "id": "3ikYFVGQ2vo0"
      },
      "source": [
        "Plotting the input variables"
      ]
    },
    {
      "cell_type": "code",
      "metadata": {
        "colab": {
          "base_uri": "https://localhost:8080/",
          "height": 279
        },
        "id": "iECELpnk2vo0",
        "outputId": "357b7f47-55a9-4f60-924b-6f621ae05ff1"
      },
      "source": [
        "scores = df['Sentiment_score'].tolist()\n",
        "x=range(1, 97, 1)\n",
        "y=scores\n",
        "y=list(map(float, y))\n",
        "plt.plot(x, y) \n",
        "  \n",
        "# naming the x axis \n",
        "plt.xlabel('input-points') \n",
        "# naming the y axis \n",
        "plt.ylabel('sentiment score') \n",
        " \n",
        "plt.show() \n",
        "#print(values)\n",
        "# # specify columns to plot\n",
        "# groups = [1]\n",
        "# i = 1\n",
        "# # plot each column\n",
        "# plt.figure()\n",
        "# for group in groups:\n",
        "# \tplt.subplot(len(groups), 1, i)\n",
        "# \tplt.plot(values[:, group])\n",
        "# \tplt.title(df.columns[group], y=1, loc='right')\n",
        "# \ti += 1\n",
        "# plt.show()\n",
        "\n"
      ],
      "execution_count": 126,
      "outputs": [
        {
          "output_type": "display_data",
          "data": {
            "image/png": "[encoded data removed]",
            "text/plain": [
              "<Figure size 432x288 with 1 Axes>"
            ]
          },
          "metadata": {
            "tags": [],
            "needs_background": "light"
          }
        }
      ]
    },
    {
      "cell_type": "code",
      "metadata": {
        "colab": {
          "base_uri": "https://localhost:8080/",
          "height": 279
        },
        "id": "KWxImdj-b2hX",
        "outputId": "ea319da2-119c-4601-bf7e-5db7e79145cf"
      },
      "source": [
        "prices=df['Price'].tolist()\n",
        "x=range(1, 97, 1)\n",
        "y=prices\n",
        "y=list(map(float, y))\n",
        "plt.plot(x, y) \n",
        "  \n",
        "# naming the x axis \n",
        "plt.xlabel('input-points') \n",
        "# naming the y axis \n",
        "plt.ylabel('sentiment score') \n",
        " \n",
        "plt.show() "
      ],
      "execution_count": 128,
      "outputs": [
        {
          "output_type": "display_data",
          "data": {
            "image/png": "[encoded data removed]",
            "text/plain": [
              "<Figure size 432x288 with 1 Axes>"
            ]
          },
          "metadata": {
            "tags": [],
            "needs_background": "light"
          }
        }
      ]
    },
    {
      "cell_type": "markdown",
      "metadata": {
        "id": "orozGAbS2vo1"
      },
      "source": [
        "Set index to datetime and change the order of columns"
      ]
    },
    {
      "cell_type": "code",
      "metadata": {
        "scrolled": true,
        "colab": {
          "base_uri": "https://localhost:8080/",
          "height": 450
        },
        "id": "DUTvXf2-2vo1",
        "outputId": "e343c3a5-cdae-4176-cd85-b820df7d3110"
      },
      "source": [
        "df.set_index('DateTime',inplace=True)  \n",
        "cols = df.columns.tolist()\n",
        "cols = cols[-1:] + cols[:-1]\n",
        "df = df[cols]\n",
        "df\n"
      ],
      "execution_count": 129,
      "outputs": [
        {
          "output_type": "execute_result",
          "data": {
            "text/html": [
              "<div>\n",
              "<style scoped>\n",
              "    .dataframe tbody tr th:only-of-type {\n",
              "        vertical-align: middle;\n",
              "    }\n",
              "\n",
              "    .dataframe tbody tr th {\n",
              "        vertical-align: top;\n",
              "    }\n",
              "\n",
              "    .dataframe thead th {\n",
              "        text-align: right;\n",
              "    }\n",
              "</style>\n",
              "<table border=\"1\" class=\"dataframe\">\n",
              "  <thead>\n",
              "    <tr style=\"text-align: right;\">\n",
              "      <th></th>\n",
              "      <th>Price</th>\n",
              "      <th>Sentiment_score</th>\n",
              "    </tr>\n",
              "    <tr>\n",
              "      <th>DateTime</th>\n",
              "      <th></th>\n",
              "      <th></th>\n",
              "    </tr>\n",
              "  </thead>\n",
              "  <tbody>\n",
              "    <tr>\n",
              "      <th>2021-02-17 15:00:00</th>\n",
              "      <td>275.3800048828125</td>\n",
              "      <td>0.023831035203204072</td>\n",
              "    </tr>\n",
              "    <tr>\n",
              "      <th>2021-02-17 16:00:00</th>\n",
              "      <td>275.3800048828125</td>\n",
              "      <td>0.023831035203204072</td>\n",
              "    </tr>\n",
              "    <tr>\n",
              "      <th>2021-02-17 17:00:00</th>\n",
              "      <td>275.3800048828125</td>\n",
              "      <td>0.023831035203204072</td>\n",
              "    </tr>\n",
              "    <tr>\n",
              "      <th>2021-02-17 18:00:00</th>\n",
              "      <td>276.409912109375</td>\n",
              "      <td>-0.018704572515988272</td>\n",
              "    </tr>\n",
              "    <tr>\n",
              "      <th>2021-02-17 19:00:00</th>\n",
              "      <td>276.409912109375</td>\n",
              "      <td>-0.018704572515988272</td>\n",
              "    </tr>\n",
              "    <tr>\n",
              "      <th>...</th>\n",
              "      <td>...</td>\n",
              "      <td>...</td>\n",
              "    </tr>\n",
              "    <tr>\n",
              "      <th>2021-02-24 01:00:00</th>\n",
              "      <td>330.93499755859375</td>\n",
              "      <td>0.056063199788331984</td>\n",
              "    </tr>\n",
              "    <tr>\n",
              "      <th>2021-02-24 02:00:00</th>\n",
              "      <td>330.93499755859375</td>\n",
              "      <td>0.08972835863259301</td>\n",
              "    </tr>\n",
              "    <tr>\n",
              "      <th>2021-02-24 03:00:00</th>\n",
              "      <td>330.93499755859375</td>\n",
              "      <td>0.08972835863259301</td>\n",
              "    </tr>\n",
              "    <tr>\n",
              "      <th>2021-02-24 04:00:00</th>\n",
              "      <td>330.93499755859375</td>\n",
              "      <td>0.11491034411150834</td>\n",
              "    </tr>\n",
              "    <tr>\n",
              "      <th>2021-02-24 05:00:00</th>\n",
              "      <td>330.93499755859375</td>\n",
              "      <td>0.11491034411150834</td>\n",
              "    </tr>\n",
              "  </tbody>\n",
              "</table>\n",
              "<p>96 rows × 2 columns</p>\n",
              "</div>"
            ],
            "text/plain": [
              "                                  Price        Sentiment_score\n",
              "DateTime                                                      \n",
              "2021-02-17 15:00:00   275.3800048828125   0.023831035203204072\n",
              "2021-02-17 16:00:00   275.3800048828125   0.023831035203204072\n",
              "2021-02-17 17:00:00   275.3800048828125   0.023831035203204072\n",
              "2021-02-17 18:00:00    276.409912109375  -0.018704572515988272\n",
              "2021-02-17 19:00:00    276.409912109375  -0.018704572515988272\n",
              "...                                 ...                    ...\n",
              "2021-02-24 01:00:00  330.93499755859375   0.056063199788331984\n",
              "2021-02-24 02:00:00  330.93499755859375    0.08972835863259301\n",
              "2021-02-24 03:00:00  330.93499755859375    0.08972835863259301\n",
              "2021-02-24 04:00:00  330.93499755859375    0.11491034411150834\n",
              "2021-02-24 05:00:00  330.93499755859375    0.11491034411150834\n",
              "\n",
              "[96 rows x 2 columns]"
            ]
          },
          "metadata": {
            "tags": []
          },
          "execution_count": 129
        }
      ]
    },
    {
      "cell_type": "code",
      "metadata": {
        "collapsed": true,
        "id": "lSqgEGT12vo1"
      },
      "source": [
        "scaler = MinMaxScaler(feature_range=(0, 1))\n",
        "scaled = scaler.fit_transform(df.values)"
      ],
      "execution_count": 130,
      "outputs": []
    },
    {
      "cell_type": "code",
      "metadata": {
        "collapsed": true,
        "id": "ouHaBMCa2vo2"
      },
      "source": [
        "def series_to_supervised(data, n_in=1, n_out=1, dropnan=True):\n",
        "    '''\n",
        "    Converts the original dataframe to a format which contains\n",
        "    lag shifted values of inputs which can be used as input\n",
        "    to the LSTM\n",
        "    '''\n",
        "    n_vars = 1 if type(data) is list else data.shape[1]\n",
        "    df = pd.DataFrame(data)\n",
        "    cols, names = list(), list()\n",
        "    # input sequence (t-n, ... t-1)\n",
        "    for i in range(n_in, 0, -1):\n",
        "        cols.append(df.shift(i))\n",
        "        names += [('var%d(t-%d)' % (j+1, i)) for j in range(n_vars)]\n",
        "    # forecast sequence (t, t+1, ... t+n)\n",
        "    for i in range(0, n_out):\n",
        "        cols.append(df.shift(-i))\n",
        "        if i == 0:\n",
        "            names += [('var%d(t)' % (j+1)) for j in range(n_vars)]\n",
        "        else:\n",
        "            names += [('var%d(t+%d)' % (j+1, i)) for j in range(n_vars)]\n",
        "    # put it all together\n",
        "    agg = pd.concat(cols, axis=1)\n",
        "    agg.columns = names\n",
        "    # drop rows with NaN values\n",
        "    if dropnan:\n",
        "        agg.dropna(inplace=True)\n",
        "    return agg"
      ],
      "execution_count": 131,
      "outputs": []
    },
    {
      "cell_type": "code",
      "metadata": {
        "collapsed": true,
        "id": "dmMaNyrG2vo2"
      },
      "source": [
        "n_hours = 3  #no of time lags\n",
        "n_features = 1 #no of features\n",
        "n_obs = n_hours*n_features"
      ],
      "execution_count": 132,
      "outputs": []
    },
    {
      "cell_type": "code",
      "metadata": {
        "scrolled": true,
        "colab": {
          "base_uri": "https://localhost:8080/",
          "height": 204
        },
        "id": "KEfb2s6l2vo2",
        "outputId": "4c944da9-6049-485e-b6fe-aa2ae49a2c71"
      },
      "source": [
        "reframed = series_to_supervised(scaled, n_hours, 1)\n",
        "reframed.head()"
      ],
      "execution_count": 133,
      "outputs": [
        {
          "output_type": "execute_result",
          "data": {
            "text/html": [
              "<div>\n",
              "<style scoped>\n",
              "    .dataframe tbody tr th:only-of-type {\n",
              "        vertical-align: middle;\n",
              "    }\n",
              "\n",
              "    .dataframe tbody tr th {\n",
              "        vertical-align: top;\n",
              "    }\n",
              "\n",
              "    .dataframe thead th {\n",
              "        text-align: right;\n",
              "    }\n",
              "</style>\n",
              "<table border=\"1\" class=\"dataframe\">\n",
              "  <thead>\n",
              "    <tr style=\"text-align: right;\">\n",
              "      <th></th>\n",
              "      <th>var1(t-3)</th>\n",
              "      <th>var2(t-3)</th>\n",
              "      <th>var1(t-2)</th>\n",
              "      <th>var2(t-2)</th>\n",
              "      <th>var1(t-1)</th>\n",
              "      <th>var2(t-1)</th>\n",
              "      <th>var1(t)</th>\n",
              "      <th>var2(t)</th>\n",
              "    </tr>\n",
              "  </thead>\n",
              "  <tbody>\n",
              "    <tr>\n",
              "      <th>3</th>\n",
              "      <td>0.001141</td>\n",
              "      <td>0.479558</td>\n",
              "      <td>0.001141</td>\n",
              "      <td>0.479558</td>\n",
              "      <td>0.001141</td>\n",
              "      <td>0.479558</td>\n",
              "      <td>0.019224</td>\n",
              "      <td>0.410412</td>\n",
              "    </tr>\n",
              "    <tr>\n",
              "      <th>4</th>\n",
              "      <td>0.001141</td>\n",
              "      <td>0.479558</td>\n",
              "      <td>0.001141</td>\n",
              "      <td>0.479558</td>\n",
              "      <td>0.019224</td>\n",
              "      <td>0.410412</td>\n",
              "      <td>0.019224</td>\n",
              "      <td>0.410412</td>\n",
              "    </tr>\n",
              "    <tr>\n",
              "      <th>5</th>\n",
              "      <td>0.001141</td>\n",
              "      <td>0.479558</td>\n",
              "      <td>0.019224</td>\n",
              "      <td>0.410412</td>\n",
              "      <td>0.019224</td>\n",
              "      <td>0.410412</td>\n",
              "      <td>0.019224</td>\n",
              "      <td>0.410412</td>\n",
              "    </tr>\n",
              "    <tr>\n",
              "      <th>6</th>\n",
              "      <td>0.019224</td>\n",
              "      <td>0.410412</td>\n",
              "      <td>0.019224</td>\n",
              "      <td>0.410412</td>\n",
              "      <td>0.019224</td>\n",
              "      <td>0.410412</td>\n",
              "      <td>0.000000</td>\n",
              "      <td>0.672668</td>\n",
              "    </tr>\n",
              "    <tr>\n",
              "      <th>7</th>\n",
              "      <td>0.019224</td>\n",
              "      <td>0.410412</td>\n",
              "      <td>0.019224</td>\n",
              "      <td>0.410412</td>\n",
              "      <td>0.000000</td>\n",
              "      <td>0.672668</td>\n",
              "      <td>0.000000</td>\n",
              "      <td>0.672668</td>\n",
              "    </tr>\n",
              "  </tbody>\n",
              "</table>\n",
              "</div>"
            ],
            "text/plain": [
              "   var1(t-3)  var2(t-3)  var1(t-2)  ...  var2(t-1)   var1(t)   var2(t)\n",
              "3   0.001141   0.479558   0.001141  ...   0.479558  0.019224  0.410412\n",
              "4   0.001141   0.479558   0.001141  ...   0.410412  0.019224  0.410412\n",
              "5   0.001141   0.479558   0.019224  ...   0.410412  0.019224  0.410412\n",
              "6   0.019224   0.410412   0.019224  ...   0.410412  0.000000  0.672668\n",
              "7   0.019224   0.410412   0.019224  ...   0.672668  0.000000  0.672668\n",
              "\n",
              "[5 rows x 8 columns]"
            ]
          },
          "metadata": {
            "tags": []
          },
          "execution_count": 133
        }
      ]
    },
    {
      "cell_type": "code",
      "metadata": {
        "colab": {
          "base_uri": "https://localhost:8080/",
          "height": 204
        },
        "id": "rl5jiWfb2vo3",
        "outputId": "18efc4ce-76a9-4956-ae64-16ec1a6f0fef"
      },
      "source": [
        "reframed = reframed.drop(reframed.columns[-1], axis=1)\n",
        "reframed.head()"
      ],
      "execution_count": 134,
      "outputs": [
        {
          "output_type": "execute_result",
          "data": {
            "text/html": [
              "<div>\n",
              "<style scoped>\n",
              "    .dataframe tbody tr th:only-of-type {\n",
              "        vertical-align: middle;\n",
              "    }\n",
              "\n",
              "    .dataframe tbody tr th {\n",
              "        vertical-align: top;\n",
              "    }\n",
              "\n",
              "    .dataframe thead th {\n",
              "        text-align: right;\n",
              "    }\n",
              "</style>\n",
              "<table border=\"1\" class=\"dataframe\">\n",
              "  <thead>\n",
              "    <tr style=\"text-align: right;\">\n",
              "      <th></th>\n",
              "      <th>var1(t-3)</th>\n",
              "      <th>var2(t-3)</th>\n",
              "      <th>var1(t-2)</th>\n",
              "      <th>var2(t-2)</th>\n",
              "      <th>var1(t-1)</th>\n",
              "      <th>var2(t-1)</th>\n",
              "      <th>var1(t)</th>\n",
              "    </tr>\n",
              "  </thead>\n",
              "  <tbody>\n",
              "    <tr>\n",
              "      <th>3</th>\n",
              "      <td>0.001141</td>\n",
              "      <td>0.479558</td>\n",
              "      <td>0.001141</td>\n",
              "      <td>0.479558</td>\n",
              "      <td>0.001141</td>\n",
              "      <td>0.479558</td>\n",
              "      <td>0.019224</td>\n",
              "    </tr>\n",
              "    <tr>\n",
              "      <th>4</th>\n",
              "      <td>0.001141</td>\n",
              "      <td>0.479558</td>\n",
              "      <td>0.001141</td>\n",
              "      <td>0.479558</td>\n",
              "      <td>0.019224</td>\n",
              "      <td>0.410412</td>\n",
              "      <td>0.019224</td>\n",
              "    </tr>\n",
              "    <tr>\n",
              "      <th>5</th>\n",
              "      <td>0.001141</td>\n",
              "      <td>0.479558</td>\n",
              "      <td>0.019224</td>\n",
              "      <td>0.410412</td>\n",
              "      <td>0.019224</td>\n",
              "      <td>0.410412</td>\n",
              "      <td>0.019224</td>\n",
              "    </tr>\n",
              "    <tr>\n",
              "      <th>6</th>\n",
              "      <td>0.019224</td>\n",
              "      <td>0.410412</td>\n",
              "      <td>0.019224</td>\n",
              "      <td>0.410412</td>\n",
              "      <td>0.019224</td>\n",
              "      <td>0.410412</td>\n",
              "      <td>0.000000</td>\n",
              "    </tr>\n",
              "    <tr>\n",
              "      <th>7</th>\n",
              "      <td>0.019224</td>\n",
              "      <td>0.410412</td>\n",
              "      <td>0.019224</td>\n",
              "      <td>0.410412</td>\n",
              "      <td>0.000000</td>\n",
              "      <td>0.672668</td>\n",
              "      <td>0.000000</td>\n",
              "    </tr>\n",
              "  </tbody>\n",
              "</table>\n",
              "</div>"
            ],
            "text/plain": [
              "   var1(t-3)  var2(t-3)  var1(t-2)  var2(t-2)  var1(t-1)  var2(t-1)   var1(t)\n",
              "3   0.001141   0.479558   0.001141   0.479558   0.001141   0.479558  0.019224\n",
              "4   0.001141   0.479558   0.001141   0.479558   0.019224   0.410412  0.019224\n",
              "5   0.001141   0.479558   0.019224   0.410412   0.019224   0.410412  0.019224\n",
              "6   0.019224   0.410412   0.019224   0.410412   0.019224   0.410412  0.000000\n",
              "7   0.019224   0.410412   0.019224   0.410412   0.000000   0.672668  0.000000"
            ]
          },
          "metadata": {
            "tags": []
          },
          "execution_count": 134
        }
      ]
    },
    {
      "cell_type": "code",
      "metadata": {
        "colab": {
          "base_uri": "https://localhost:8080/"
        },
        "id": "0ZC3hiza2vo3",
        "outputId": "f230d574-b703-4dc2-d357-609b3da3ecd7"
      },
      "source": [
        "values = reframed.values\n",
        "n_train_hours = 85\n",
        "train = values[:n_train_hours, :]\n",
        "test = values[n_train_hours:, :]\n",
        "train.shape"
      ],
      "execution_count": 143,
      "outputs": [
        {
          "output_type": "execute_result",
          "data": {
            "text/plain": [
              "(85, 7)"
            ]
          },
          "metadata": {
            "tags": []
          },
          "execution_count": 143
        }
      ]
    },
    {
      "cell_type": "code",
      "metadata": {
        "collapsed": true,
        "id": "nogXKsKM2vo4"
      },
      "source": [
        "# split into input and outputs\n",
        "train_X, train_y = train[:, :n_obs], train[:, -n_features]\n",
        "test_X, test_y = test[:, :n_obs], test[:, -n_features]"
      ],
      "execution_count": 144,
      "outputs": []
    },
    {
      "cell_type": "code",
      "metadata": {
        "colab": {
          "base_uri": "https://localhost:8080/"
        },
        "id": "X1XcjfxK2vo5",
        "outputId": "bc815186-532f-4bdc-83b3-79c434faeb16"
      },
      "source": [
        "# reshape input to be 3D [samples, timesteps, features]\n",
        "train_X = train_X.reshape((train_X.shape[0], n_hours, n_features))\n",
        "test_X = test_X.reshape((test_X.shape[0], n_hours, n_features))\n",
        "print(train_X.shape, train_y.shape, test_X.shape, test_y.shape)"
      ],
      "execution_count": 145,
      "outputs": [
        {
          "output_type": "stream",
          "text": [
            "(85, 3, 1) (85,) (8, 3, 1) (8,)\n"
          ],
          "name": "stdout"
        }
      ]
    },
    {
      "cell_type": "code",
      "metadata": {
        "id": "gMDW9b275ALJ"
      },
      "source": [
        ""
      ],
      "execution_count": null,
      "outputs": []
    },
    {
      "cell_type": "code",
      "metadata": {
        "collapsed": true,
        "colab": {
          "base_uri": "https://localhost:8080/"
        },
        "id": "2nTcJs2V2vo5",
        "outputId": "e31661c7-e405-48a2-8ab4-15a33207e0a6"
      },
      "source": [
        "import tensorflow as tf\n",
        "from tensorflow import keras\n",
        "from tensorflow.keras.models import Sequential\n",
        "from tensorflow.keras.layers import Dense\n",
        "from tensorflow.keras.layers import Dropout\n",
        "from tensorflow.keras.layers import LSTM\n",
        "\n",
        "# design network\n",
        "model = Sequential()\n",
        "model.add(LSTM(5, input_shape=(train_X.shape[1], train_X.shape[2])))\n",
        "model.add(Dense(1))\n",
        "model.compile(loss='mae', optimizer='adam')\n",
        "# fit network\n",
        "history = model.fit(train_X, train_y, epochs=20, batch_size=4, validation_data=(test_X, test_y), verbose=2, shuffle=False)\n",
        "# plot history\n"
      ],
      "execution_count": 146,
      "outputs": [
        {
          "output_type": "stream",
          "text": [
            "Epoch 1/20\n",
            "22/22 - 2s - loss: 0.4780 - val_loss: 0.7648\n",
            "Epoch 2/20\n",
            "22/22 - 0s - loss: 0.3670 - val_loss: 0.6177\n",
            "Epoch 3/20\n",
            "22/22 - 0s - loss: 0.2615 - val_loss: 0.4729\n",
            "Epoch 4/20\n",
            "22/22 - 0s - loss: 0.1927 - val_loss: 0.3650\n",
            "Epoch 5/20\n",
            "22/22 - 0s - loss: 0.1767 - val_loss: 0.3006\n",
            "Epoch 6/20\n",
            "22/22 - 0s - loss: 0.1678 - val_loss: 0.2515\n",
            "Epoch 7/20\n",
            "22/22 - 0s - loss: 0.1615 - val_loss: 0.2130\n",
            "Epoch 8/20\n",
            "22/22 - 0s - loss: 0.1581 - val_loss: 0.1880\n",
            "Epoch 9/20\n",
            "22/22 - 0s - loss: 0.1548 - val_loss: 0.1701\n",
            "Epoch 10/20\n",
            "22/22 - 0s - loss: 0.1518 - val_loss: 0.1603\n",
            "Epoch 11/20\n",
            "22/22 - 0s - loss: 0.1489 - val_loss: 0.1575\n",
            "Epoch 12/20\n",
            "22/22 - 0s - loss: 0.1449 - val_loss: 0.1550\n",
            "Epoch 13/20\n",
            "22/22 - 0s - loss: 0.1411 - val_loss: 0.1547\n",
            "Epoch 14/20\n",
            "22/22 - 0s - loss: 0.1366 - val_loss: 0.1511\n",
            "Epoch 15/20\n",
            "22/22 - 0s - loss: 0.1315 - val_loss: 0.1419\n",
            "Epoch 16/20\n",
            "22/22 - 0s - loss: 0.1296 - val_loss: 0.1421\n",
            "Epoch 17/20\n",
            "22/22 - 0s - loss: 0.1261 - val_loss: 0.1404\n",
            "Epoch 18/20\n",
            "22/22 - 0s - loss: 0.1230 - val_loss: 0.1407\n",
            "Epoch 19/20\n",
            "22/22 - 0s - loss: 0.1188 - val_loss: 0.1349\n",
            "Epoch 20/20\n",
            "22/22 - 0s - loss: 0.1158 - val_loss: 0.1261\n"
          ],
          "name": "stdout"
        }
      ]
    },
    {
      "cell_type": "code",
      "metadata": {
        "colab": {
          "base_uri": "https://localhost:8080/",
          "height": 265
        },
        "id": "3yDdu3XY2vo6",
        "outputId": "811be696-ca91-4f42-de6e-4f50e4d21551"
      },
      "source": [
        "plt.plot(history.history['loss'], label='train')\n",
        "plt.plot(history.history['val_loss'], label='test')\n",
        "plt.legend()\n",
        "plt.show()"
      ],
      "execution_count": 147,
      "outputs": [
        {
          "output_type": "display_data",
          "data": {
            "image/png": "[encoded data removed]",
            "text/plain": [
              "<Figure size 432x288 with 1 Axes>"
            ]
          },
          "metadata": {
            "tags": [],
            "needs_background": "light"
          }
        }
      ]
    },
    {
      "cell_type": "code",
      "metadata": {
        "colab": {
          "base_uri": "https://localhost:8080/"
        },
        "id": "InmjYIQB2vo6",
        "outputId": "1434a1eb-5db1-424d-fc17-4459bc0ca538"
      },
      "source": [
        "# make a prediction\n",
        "yhat = model.predict(test_X)\n",
        "test_X = test_X.reshape((test_X.shape[0], n_hours* n_features))\n",
        "# invert scaling for forecast\n",
        "inv_yhat = np.concatenate((yhat, test_X[:, -1:]), axis=1)\n",
        "inv_yhat = scaler.inverse_transform(inv_yhat)\n",
        "inv_yhat = inv_yhat[:,0]\n",
        "# invert scaling for actual\n",
        "test_y = test_y.reshape((len(test_y), 1))\n",
        "inv_y = np.concatenate((test_y, test_X[:, -1:]), axis=1)\n",
        "inv_y = scaler.inverse_transform(inv_y)\n",
        "inv_y = inv_y[:,0]\n",
        "# calculate RMSE\n",
        "rmse = np.sqrt(mean_squared_error(inv_y, inv_yhat))\n",
        "print('Test RMSE: %.3f' % rmse)"
      ],
      "execution_count": 148,
      "outputs": [
        {
          "output_type": "stream",
          "text": [
            "WARNING:tensorflow:5 out of the last 5 calls to <function Model.make_predict_function.<locals>.predict_function at 0x7f2de10c5200> triggered tf.function retracing. Tracing is expensive and the excessive number of tracings could be due to (1) creating @tf.function repeatedly in a loop, (2) passing tensors with different shapes, (3) passing Python objects instead of tensors. For (1), please define your @tf.function outside of the loop. For (2), @tf.function has experimental_relax_shapes=True option that relaxes argument shapes that can avoid unnecessary retracing. For (3), please refer to https://www.tensorflow.org/guide/function#controlling_retracing and https://www.tensorflow.org/api_docs/python/tf/function for  more details.\n",
            "Test RMSE: 7.235\n"
          ],
          "name": "stdout"
        }
      ]
    },
    {
      "cell_type": "code",
      "metadata": {
        "colab": {
          "base_uri": "https://localhost:8080/",
          "height": 282
        },
        "id": "fKCVN6SM2vo7",
        "outputId": "db865ed1-d860-411e-b4b3-41ebf63f605a"
      },
      "source": [
        "plt.plot(inv_y)\n",
        "plt.plot(inv_yhat)"
      ],
      "execution_count": 149,
      "outputs": [
        {
          "output_type": "execute_result",
          "data": {
            "text/plain": [
              "[<matplotlib.lines.Line2D at 0x7f2de0de5450>]"
            ]
          },
          "metadata": {
            "tags": []
          },
          "execution_count": 149
        },
        {
          "output_type": "display_data",
          "data": {
            "image/png": "[encoded data removed]",
            "text/plain": [
              "<Figure size 432x288 with 1 Axes>"
            ]
          },
          "metadata": {
            "tags": [],
            "needs_background": "light"
          }
        }
      ]
    },
    {
      "cell_type": "code",
      "metadata": {
        "collapsed": true,
        "id": "ZSgpoBLx2vo8"
      },
      "source": [
        "inv_y = np.insert(inv_y,0,7000)"
      ],
      "execution_count": null,
      "outputs": []
    },
    {
      "cell_type": "code",
      "metadata": {
        "colab": {
          "base_uri": "https://localhost:8080/",
          "height": 265
        },
        "id": "HbK-0RcH2vo9",
        "outputId": "d1ccdf59-3881-430b-e867-ca4f0665f7d9"
      },
      "source": [
        "plt.plot(inv_y)\n",
        "plt.plot(inv_yhat)\n",
        "plt.show()"
      ],
      "execution_count": null,
      "outputs": [
        {
          "output_type": "display_data",
          "data": {
            "image/png": "[encoded data removed]",
            "text/plain": [
              "<Figure size 432x288 with 1 Axes>"
            ]
          },
          "metadata": {
            "tags": [],
            "needs_background": "light"
          }
        }
      ]
    }
  ]
}